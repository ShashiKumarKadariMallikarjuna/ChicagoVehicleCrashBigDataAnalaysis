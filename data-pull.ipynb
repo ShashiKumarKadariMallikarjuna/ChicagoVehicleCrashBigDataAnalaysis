{
	"metadata": {
		"kernelspec": {
			"name": "glue_pyspark",
			"display_name": "Glue PySpark",
			"language": "python"
		},
		"language_info": {
			"name": "Python_Glue_Session",
			"mimetype": "text/x-python",
			"codemirror_mode": {
				"name": "python",
				"version": 3
			},
			"pygments_lexer": "python3",
			"file_extension": ".py"
		}
	},
	"nbformat_minor": 4,
	"nbformat": 4,
	"cells": [
		{
			"cell_type": "markdown",
			"source": "# AWS Glue Studio Notebook\n##### You are now running a AWS Glue Studio notebook; To start using your notebook you need to start an AWS Glue Interactive Session.\n",
			"metadata": {
				"editable": true,
				"trusted": true
			}
		},
		{
			"cell_type": "markdown",
			"source": "#### Optional: Run this cell to see available notebook commands (\"magics\").\n",
			"metadata": {
				"editable": true,
				"trusted": true
			}
		},
		{
			"cell_type": "code",
			"source": "%help",
			"metadata": {
				"trusted": true,
				"editable": true
			},
			"execution_count": null,
			"outputs": []
		},
		{
			"cell_type": "markdown",
			"source": "####  Run this cell to set up and start your interactive session.\n",
			"metadata": {
				"editable": true,
				"trusted": true
			}
		},
		{
			"cell_type": "code",
			"source": "%idle_timeout 2880\n%glue_version 4.0\n%worker_type G.1X\n%number_of_workers 5\n\nimport sys\nfrom awsglue.transforms import *\nfrom awsglue.utils import getResolvedOptions\nfrom pyspark.context import SparkContext\nfrom awsglue.context import GlueContext\nfrom awsglue.job import Job\nimport requests\nfrom datetime import datetime\nimport boto3\nimport json\nfrom io import StringIO\n\nsc = SparkContext.getOrCreate()\nglueContext = GlueContext(sc)\nspark = glueContext.spark_session\njob = Job(glueContext)",
			"metadata": {
				"trusted": true,
				"editable": true
			},
			"execution_count": 47,
			"outputs": [
				{
					"name": "stderr",
					"text": "You are already connected to a glueetl session 55e212f5-059b-46bb-a8ed-d86f6f022ef7.\n\nNo change will be made to the current session that is set as glueetl. The session configuration change will apply to newly created sessions.\n",
					"output_type": "stream"
				},
				{
					"name": "stdout",
					"text": "Current idle_timeout is 2880 minutes.\nidle_timeout has been set to 2880 minutes.\n",
					"output_type": "stream"
				},
				{
					"name": "stderr",
					"text": "You are already connected to a glueetl session 55e212f5-059b-46bb-a8ed-d86f6f022ef7.\n\nNo change will be made to the current session that is set as glueetl. The session configuration change will apply to newly created sessions.\n",
					"output_type": "stream"
				},
				{
					"name": "stdout",
					"text": "Setting Glue version to: 4.0\n",
					"output_type": "stream"
				},
				{
					"name": "stderr",
					"text": "You are already connected to a glueetl session 55e212f5-059b-46bb-a8ed-d86f6f022ef7.\n\nNo change will be made to the current session that is set as glueetl. The session configuration change will apply to newly created sessions.\n",
					"output_type": "stream"
				},
				{
					"name": "stdout",
					"text": "Previous worker type: G.1X\nSetting new worker type to: G.1X\n",
					"output_type": "stream"
				},
				{
					"name": "stderr",
					"text": "You are already connected to a glueetl session 55e212f5-059b-46bb-a8ed-d86f6f022ef7.\n\nNo change will be made to the current session that is set as glueetl. The session configuration change will apply to newly created sessions.\n",
					"output_type": "stream"
				},
				{
					"name": "stdout",
					"text": "Previous number of workers: 5\nSetting new number of workers to: 5\n\n",
					"output_type": "stream"
				}
			]
		},
		{
			"cell_type": "markdown",
			"source": "#### Get data from API function",
			"metadata": {
				"tags": []
			}
		},
		{
			"cell_type": "code",
			"source": "#Get CSV data from the API\ndef get_api_data(api_url):\n    try:\n        # Make a GET request to the API\n        response = requests.get(api_url)\n\n        # Check if the request was successful (status code 200)\n        if response.status_code == 200:\n            # Parse the text data from the response\n            data = response.text\n            return data\n        else:\n            # Print an error message if the request was not successful\n            print(f\"Error: {response.status_code}\")\n    except Exception as e:\n        print(f\"An error occurred: {str(e)}\")",
			"metadata": {
				"trusted": true,
				"tags": []
			},
			"execution_count": 42,
			"outputs": [
				{
					"name": "stdout",
					"text": "\n",
					"output_type": "stream"
				}
			]
		},
		{
			"cell_type": "markdown",
			"source": "#### Write the data to a location in Amazon S3\n",
			"metadata": {
				"editable": true,
				"trusted": true
			}
		},
		{
			"cell_type": "code",
			"source": "#Write the data into the right folder in S3 bucket\ndef upload_to_s3(data, bucket_name, object_key):\n    # Create an S3 client\n    s3 = boto3.client('s3')\n    \n    # Upload the CSV data to S3\n    try:\n        # Convert CSV data to a Pandas DataFrame\n        df = pd.read_csv(StringIO(data))\n\n        # Convert DataFrame to CSV format\n        csv_buffer = StringIO()\n        df.to_csv(csv_buffer, index=False)\n        csv_content = csv_buffer.getvalue()\n        # Upload the CSV data as an S3 object\n        s3.put_object(Body=csv_content, Bucket=bucket_name, Key=object_key)\n\n        print(f\"CSV data uploaded successfully to s3://{bucket_name}/{object_key}\")\n    except Exception as e:\n        print(f\"An error occurred: {str(e)}\")",
			"metadata": {
				"trusted": true,
				"tags": []
			},
			"execution_count": 43,
			"outputs": [
				{
					"name": "stdout",
					"text": "\n",
					"output_type": "stream"
				}
			]
		},
		{
			"cell_type": "code",
			"source": "#Get the API URL based on the dataset name\ndef get_api_url(dataset_name):\n    if dataset_name == \"Crashes\":\n        return \"https://data.cityofchicago.org/resource/85ca-t3if.csv\"\n    elif dataset_name == \"People\":\n        return \"https://data.cityofchicago.org/resource/u6pd-qa9d.csv\"\n    elif dataset_name == \"Vehicles\":\n        return \"https://data.cityofchicago.org/resource/68nd-jvt3.csv\"",
			"metadata": {
				"trusted": true,
				"tags": []
			},
			"execution_count": 44,
			"outputs": [
				{
					"name": "stdout",
					"text": "\n",
					"output_type": "stream"
				}
			]
		},
		{
			"cell_type": "code",
			"source": "# Format the current date and time as a string\ncurrent_datetime_stamp = datetime.now().strftime(\"%Y%m%d%H%M%S\")\n#S3 bucket name\ns3_bucket_name = \"uncharted-s3\"\n#Load the incremental data for the 3 datasources\ndatasets = [\"Crashes\",\"People\",\"Vehicles\"]\nfor i in datasets:\n    #Get API URL\n    api_url = get_api_url(i)\n    # Call the function to get data from the API\n    api_data = get_api_data(api_url)\n    # Upload data to S3 if successfully fetched\n    if api_data:\n        #S3 object key\n        s3_object_key = f\"raw/incremental/{i}/{i}_{current_datetime_stamp}.csv\"\n        #Upload data to S3\n        upload_to_s3(api_data, s3_bucket_name, s3_object_key)",
			"metadata": {
				"trusted": true,
				"tags": []
			},
			"execution_count": 49,
			"outputs": [
				{
					"name": "stdout",
					"text": "CSV data uploaded successfully to s3://uncharted-s3/raw/incremental/Crashes/Crashes_20231126213815.csv\nCSV data uploaded successfully to s3://uncharted-s3/raw/incremental/People/People_20231126213815.csv\nCSV data uploaded successfully to s3://uncharted-s3/raw/incremental/Vehicles/Vehicles_20231126213815.csv\n",
					"output_type": "stream"
				}
			]
		}
	]
}